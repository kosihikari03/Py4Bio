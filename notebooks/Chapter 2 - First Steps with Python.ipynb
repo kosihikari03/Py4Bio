{
  "cells": [
    {
      "cell_type": "markdown",
      "metadata": {
        "id": "oKfN-zFW7qQm"
      },
      "source": [
        "Python for Bioinformatics\n",
        "-----------------------------\n",
        "\n",
        "![title](https://s3.amazonaws.com/py4bio/tapabiosmall.png)\n",
        "\n",
        "This Jupyter notebook is intented to be used alongside the book [Python for Bioinformatics](http://py3.us/)\n",
        "\n"
      ]
    },
    {
      "cell_type": "markdown",
      "metadata": {
        "id": "cSXd0w_X7qQn"
      },
      "source": [
        "Chapter 2: First Steps with Python\n",
        "-----------------------------"
      ]
    },
    {
      "cell_type": "code",
      "execution_count": 1,
      "metadata": {
        "scrolled": false,
        "id": "ADIfJoeo7qQn",
        "outputId": "e36c6d05-24e0-44fa-f0d1-360244daa95b",
        "colab": {
          "base_uri": "https://localhost:8080/"
        }
      },
      "outputs": [
        {
          "output_type": "stream",
          "name": "stdout",
          "text": [
            "Hello World!\n"
          ]
        }
      ],
      "source": [
        "print('Hello World!')"
      ]
    },
    {
      "cell_type": "code",
      "execution_count": 2,
      "metadata": {
        "id": "kjopgiiS7qQo",
        "outputId": "d1348675-a9e7-4a7d-97d7-e55a7dc54e98",
        "colab": {
          "base_uri": "https://localhost:8080/"
        }
      },
      "outputs": [
        {
          "output_type": "stream",
          "name": "stdout",
          "text": [
            "Hello World!\n"
          ]
        }
      ],
      "source": [
        "print(\"Hello\", \"World!\")"
      ]
    },
    {
      "cell_type": "code",
      "execution_count": null,
      "metadata": {
        "id": "RdVfxAS57qQp",
        "outputId": "8c099066-bf73-4a4d-c107-c0c88b9be5eb"
      },
      "outputs": [
        {
          "name": "stdout",
          "output_type": "stream",
          "text": [
            "Hello;World!\n"
          ]
        }
      ],
      "source": [
        "print(\"Hello\",\"World!\",sep=\";\")"
      ]
    },
    {
      "cell_type": "code",
      "execution_count": null,
      "metadata": {
        "scrolled": true,
        "id": "hCoTMYed7qQp",
        "outputId": "f53b6af6-9732-4c23-b5ac-81c97f005e68"
      },
      "outputs": [
        {
          "name": "stdout",
          "output_type": "stream",
          "text": [
            "Hello;World!\n",
            "\n"
          ]
        }
      ],
      "source": [
        "print(\"Hello\",\"World!\",sep=\";\",end='\\n\\n')\n"
      ]
    },
    {
      "cell_type": "code",
      "execution_count": null,
      "metadata": {
        "id": "HmCHCeLQ7qQp",
        "outputId": "39f11ff2-ece0-42a9-ed8e-5771bd6fee52"
      },
      "outputs": [
        {
          "name": "stdout",
          "output_type": "stream",
          "text": [
            "Enter your name: Seba\n"
          ]
        },
        {
          "data": {
            "text/plain": [
              "'Seba'"
            ]
          },
          "execution_count": 1,
          "metadata": {},
          "output_type": "execute_result"
        }
      ],
      "source": [
        "name = input(\"Enter your name: \")\n",
        "name\n"
      ]
    },
    {
      "cell_type": "code",
      "execution_count": null,
      "metadata": {
        "id": "Rg4d9x577qQq",
        "outputId": "b2f35a03-1fba-4448-819d-5d0a259b6b18"
      },
      "outputs": [
        {
          "data": {
            "text/plain": [
              "2"
            ]
          },
          "execution_count": 2,
          "metadata": {},
          "output_type": "execute_result"
        }
      ],
      "source": [
        "1+1\n"
      ]
    },
    {
      "cell_type": "code",
      "execution_count": null,
      "metadata": {
        "id": "imKz3J0a7qQq",
        "outputId": "660903b8-275c-40a5-fe67-ecf34d62fa10"
      },
      "outputs": [
        {
          "data": {
            "text/plain": [
              "'11'"
            ]
          },
          "execution_count": 3,
          "metadata": {},
          "output_type": "execute_result"
        }
      ],
      "source": [
        "'1'+'1'"
      ]
    },
    {
      "cell_type": "code",
      "execution_count": null,
      "metadata": {
        "id": "ut6T6eyL7qQq",
        "outputId": "3279509e-40b5-44ee-d462-d7bf1874f75a"
      },
      "outputs": [
        {
          "data": {
            "text/plain": [
              "'A string of characters'"
            ]
          },
          "execution_count": 4,
          "metadata": {},
          "output_type": "execute_result"
        }
      ],
      "source": [
        "\"A string of \" + 'characters'\n"
      ]
    },
    {
      "cell_type": "code",
      "execution_count": null,
      "metadata": {
        "id": "vpUyBd9P7qQr",
        "outputId": "efeff77e-a3a3-4847-9c07-492a406b05d6"
      },
      "outputs": [
        {
          "ename": "TypeError",
          "evalue": "Can't convert 'int' object to str implicitly",
          "output_type": "error",
          "traceback": [
            "\u001b[0;31m---------------------------------------------------------------------------\u001b[0m",
            "\u001b[0;31mTypeError\u001b[0m                                 Traceback (most recent call last)",
            "\u001b[0;32m<ipython-input-5-defa453cb41a>\u001b[0m in \u001b[0;36m<module>\u001b[0;34m()\u001b[0m\n\u001b[0;32m----> 1\u001b[0;31m \u001b[0;34m'The answer is '\u001b[0m \u001b[0;34m+\u001b[0m \u001b[0;36m42\u001b[0m\u001b[0;34m\u001b[0m\u001b[0m\n\u001b[0m",
            "\u001b[0;31mTypeError\u001b[0m: Can't convert 'int' object to str implicitly"
          ]
        }
      ],
      "source": [
        "'The answer is ' + 42"
      ]
    },
    {
      "cell_type": "code",
      "execution_count": null,
      "metadata": {
        "id": "N7_ysthK7qQr",
        "outputId": "30232daf-cc69-4091-c61a-0d8c7aa3f184"
      },
      "outputs": [
        {
          "data": {
            "text/plain": [
              "'The answer is 42'"
            ]
          },
          "execution_count": 6,
          "metadata": {},
          "output_type": "execute_result"
        }
      ],
      "source": [
        "'The answer is ' + str(42)\n"
      ]
    },
    {
      "cell_type": "code",
      "execution_count": null,
      "metadata": {
        "id": "zcVXdVVW7qQr",
        "outputId": "0f391fa1-2196-4071-80ed-222c197ffdf4"
      },
      "outputs": [
        {
          "data": {
            "text/plain": [
              "'The answer is 42'"
            ]
          },
          "execution_count": 1,
          "metadata": {},
          "output_type": "execute_result"
        }
      ],
      "source": [
        "'The answer is {0}'.format(42)\n"
      ]
    },
    {
      "cell_type": "code",
      "execution_count": null,
      "metadata": {
        "id": "6Zf42uyF7qQr",
        "outputId": "89669a07-1a18-42ca-ae19-e45486d079d1"
      },
      "outputs": [
        {
          "data": {
            "text/plain": [
              "'The answer is 42'"
            ]
          },
          "execution_count": 2,
          "metadata": {},
          "output_type": "execute_result"
        }
      ],
      "source": [
        "number = 42\n",
        "'The answer is {0}'.format(number)\n"
      ]
    },
    {
      "cell_type": "markdown",
      "metadata": {
        "id": "_zH0hnTd7qQr"
      },
      "source": [
        "Mathematical Operations"
      ]
    },
    {
      "cell_type": "code",
      "execution_count": null,
      "metadata": {
        "id": "KmXLuah47qQs",
        "outputId": "eb20cd5c-735d-4a33-9d49-158f968a6dc8"
      },
      "outputs": [
        {
          "data": {
            "text/plain": [
              "24"
            ]
          },
          "execution_count": 14,
          "metadata": {},
          "output_type": "execute_result"
        }
      ],
      "source": [
        "12*2\n",
        "\n"
      ]
    },
    {
      "cell_type": "code",
      "execution_count": null,
      "metadata": {
        "id": "9hJ5aWoV7qQs",
        "outputId": "fd00e799-d89b-4e7c-8a63-9331533e53ae"
      },
      "outputs": [
        {
          "data": {
            "text/plain": [
              "10.0"
            ]
          },
          "execution_count": 13,
          "metadata": {},
          "output_type": "execute_result"
        }
      ],
      "source": [
        "30/3\n",
        "\n"
      ]
    },
    {
      "cell_type": "code",
      "execution_count": null,
      "metadata": {
        "id": "5xHm0kh_7qQs",
        "outputId": "aee047ce-a749-4590-e917-ff709d093205"
      },
      "outputs": [
        {
          "data": {
            "text/plain": [
              "228.0"
            ]
          },
          "execution_count": 12,
          "metadata": {},
          "output_type": "execute_result"
        }
      ],
      "source": [
        "2**8/2+100\n"
      ]
    },
    {
      "cell_type": "code",
      "execution_count": null,
      "metadata": {
        "id": "zl6mvoc97qQs",
        "outputId": "2e3395c4-3cf1-4c56-ba34-48fe188dea8e"
      },
      "outputs": [
        {
          "data": {
            "text/plain": [
              "2.5"
            ]
          },
          "execution_count": 15,
          "metadata": {},
          "output_type": "execute_result"
        }
      ],
      "source": [
        "10/4\n",
        "\n"
      ]
    },
    {
      "cell_type": "code",
      "execution_count": null,
      "metadata": {
        "id": "pSBPbMia7qQs",
        "outputId": "58a47bd1-dd89-4f4a-d406-c323571a20fd"
      },
      "outputs": [
        {
          "data": {
            "text/plain": [
              "2"
            ]
          },
          "execution_count": 16,
          "metadata": {},
          "output_type": "execute_result"
        }
      ],
      "source": [
        "10//4\n"
      ]
    },
    {
      "cell_type": "markdown",
      "metadata": {
        "collapsed": true,
        "id": "K2pV6eky7qQs"
      },
      "source": [
        "\n",
        "BATCH MODE"
      ]
    },
    {
      "cell_type": "markdown",
      "metadata": {
        "id": "R9RAsEjw7qQs"
      },
      "source": [
        "**Listing 2.1:** hello.py: A “Hello World!” program"
      ]
    },
    {
      "cell_type": "code",
      "execution_count": null,
      "metadata": {
        "id": "lTXiKWXn7qQs",
        "outputId": "c21a1eab-8b01-467f-8ec5-3551b0f90e2c"
      },
      "outputs": [
        {
          "name": "stdout",
          "output_type": "stream",
          "text": [
            "Hello World!\n"
          ]
        }
      ],
      "source": [
        "print(\"Hello World!\")"
      ]
    },
    {
      "cell_type": "markdown",
      "metadata": {
        "id": "oD1cYrB_7qQt"
      },
      "source": [
        "**Listing 2.2:** hello2.py: Hello World! with shebang"
      ]
    },
    {
      "cell_type": "code",
      "execution_count": null,
      "metadata": {
        "scrolled": true,
        "id": "24KU7KUT7qQt",
        "outputId": "c697d67b-9aa7-4bc7-feee-8250c0a3c99a"
      },
      "outputs": [
        {
          "name": "stdout",
          "output_type": "stream",
          "text": [
            "Hello World!\n"
          ]
        }
      ],
      "source": [
        "#!/usr/bin/python\n",
        "print(\"Hello World!\")"
      ]
    },
    {
      "cell_type": "markdown",
      "metadata": {
        "id": "vBOmK4SO7qQt"
      },
      "source": [
        "**Listing 2.3:** Hello World! with comments"
      ]
    },
    {
      "cell_type": "code",
      "execution_count": null,
      "metadata": {
        "id": "ljnXV_I47qQt",
        "outputId": "3ec19ed9-43fc-408e-9009-1403eee84ac9"
      },
      "outputs": [
        {
          "name": "stdout",
          "output_type": "stream",
          "text": [
            "Hello World!\n"
          ]
        }
      ],
      "source": [
        "#!/usr/bin/env python\n",
        "# The next line prints the string \"Hello World!\"\n",
        "print(\"Hello World!\")"
      ]
    }
  ],
  "metadata": {
    "kernelspec": {
      "display_name": "Python 3",
      "language": "python",
      "name": "python3"
    },
    "language_info": {
      "codemirror_mode": {
        "name": "ipython",
        "version": 3
      },
      "file_extension": ".py",
      "mimetype": "text/x-python",
      "name": "python",
      "nbconvert_exporter": "python",
      "pygments_lexer": "ipython3",
      "version": "3.5.1"
    },
    "colab": {
      "provenance": []
    }
  },
  "nbformat": 4,
  "nbformat_minor": 0
}